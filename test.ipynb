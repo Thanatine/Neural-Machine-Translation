{
 "cells": [
  {
   "cell_type": "code",
   "execution_count": null,
   "metadata": {},
   "outputs": [],
   "source": [
    "'''Remember put <GO> in front of the inferenced inputs'''\n",
    "a = 300\n",
    "X_test = X_train[a:a+16]\n",
    "for i in range(0, len(X_test)):\n",
    "#     X_test[i] = np.concatenate([tokens_embedding[0], X_test[i]])\n",
    "    X_test[i] = [tokens_id[0]] + X_test[i]\n",
    "    X_test[i] = X_test[i][0:3]\n",
    "\n",
    "checkpoint = '../../model/' + 'enc_dec_layer_2_dim_512_pre_emb_None_beam_search.ckpt-' + '1160'\n",
    "\n",
    "loaded_graph = tf.Graph()\n",
    "with tf.Session(graph = loaded_graph) as sess:\n",
    "    loader = tf.train.import_meta_graph(checkpoint + '.meta')\n",
    "    loader.restore(sess, checkpoint)\n",
    "    \n",
    "    '''show trainable variables'''\n",
    "#     temp_show = [n.name for n in tf.get_default_graph().as_graph_def().node]\n",
    "#     for o in temp_show:\n",
    "#         print(o)\n",
    "\n",
    "    e_i = loaded_graph.get_tensor_by_name('encoder_inputs:0')\n",
    "#     train_logits = loaded_graph.get_tensor_by_name('Decoder/train_predictions:0')\n",
    "    inf_logits = loaded_graph.get_tensor_by_name('inference_predictions:0')\n",
    "    e_i_l = loaded_graph.get_tensor_by_name('encoder_inputs_length:0')\n",
    "    \n",
    "    X_test_batch, X_test_batch_length = Touka.prepare_batch(X_test, \n",
    "                                                            dim = 2,\n",
    "#                                                             emb_size = 300, \n",
    "                                                            time_major = False)\n",
    "    \n",
    "#     answer_logits1 = sess.run(train_logits, {e_i: X_test_batch, e_i_l: X_test_batch_length})\n",
    "    answer_logits2 = sess.run(inf_logits, {e_i: X_test_batch, e_i_l: X_test_batch_length})"
   ]
  }
 ],
 "metadata": {
  "kernelspec": {
   "display_name": "Python 3",
   "language": "python",
   "name": "python3"
  },
  "language_info": {
   "codemirror_mode": {
    "name": "ipython",
    "version": 3
   },
   "file_extension": ".py",
   "mimetype": "text/x-python",
   "name": "python",
   "nbconvert_exporter": "python",
   "pygments_lexer": "ipython3",
   "version": "3.5.1"
  }
 },
 "nbformat": 4,
 "nbformat_minor": 2
}
